{
 "cells": [
  {
   "cell_type": "code",
   "execution_count": 1,
   "metadata": {},
   "outputs": [],
   "source": [
    "import eland as ed\n",
    "import pandas as pd\n",
    "import matplotlib.pyplot as plt\n",
    "\n",
    "# import elasticsearch-py client\n",
    "from elasticsearch import Elasticsearch\n",
    "\n",
    "# Function for pretty-printing JSON\n",
    "def json(raw):\n",
    "    import json\n",
    "    print(json.dumps(raw, indent=2, sort_keys=True))"
   ]
  },
  {
   "cell_type": "code",
   "execution_count": 2,
   "metadata": {},
   "outputs": [
    {
     "name": "stdout",
     "output_type": "stream",
     "text": [
      "{\n",
      "  \"cluster_name\": \"elasticsearch\",\n",
      "  \"cluster_uuid\": \"WAdmDzUvSXOI0NSD4YJQag\",\n",
      "  \"name\": \"DESKTOP-Q85BIOJ\",\n",
      "  \"tagline\": \"You Know, for Search\",\n",
      "  \"version\": {\n",
      "    \"build_date\": \"2020-12-05T01:00:33.671820Z\",\n",
      "    \"build_flavor\": \"default\",\n",
      "    \"build_hash\": \"1c34507e66d7db1211f66f3513706fdf548736aa\",\n",
      "    \"build_snapshot\": false,\n",
      "    \"build_type\": \"zip\",\n",
      "    \"lucene_version\": \"8.7.0\",\n",
      "    \"minimum_index_compatibility_version\": \"6.0.0-beta1\",\n",
      "    \"minimum_wire_compatibility_version\": \"6.8.0\",\n",
      "    \"number\": \"7.10.1\"\n",
      "  }\n",
      "}\n"
     ]
    }
   ],
   "source": [
    "# Connect to an Elasticsearch instance\n",
    "# here we use the official Elastic Python client\n",
    "# check it on https://github.com/elastic/elasticsearch-py\n",
    "es = Elasticsearch(\n",
    "  ['http://localhost:9200'],\n",
    "  http_auth=(\"es_kbn\", \"changeme\")\n",
    ")\n",
    "# print the connection object info (same as visiting http://localhost:9200)\n",
    "# make sure your elasticsearch node/cluster respond to requests\n",
    "json(es.info())"
   ]
  },
  {
   "cell_type": "code",
   "execution_count": 3,
   "metadata": {},
   "outputs": [
    {
     "name": "stdout",
     "output_type": "stream",
     "text": [
      "<class 'pandas.core.frame.DataFrame'>\n",
      "RangeIndex: 541909 entries, 0 to 541908\n",
      "Data columns (total 13 columns):\n",
      " #   Column             Non-Null Count   Dtype  \n",
      "---  ------             --------------   -----  \n",
      " 0   invoice_id         541909 non-null  object \n",
      " 1   item_id            541909 non-null  int64  \n",
      " 2   item_model         541909 non-null  object \n",
      " 3   item_name          541909 non-null  object \n",
      " 4   item_brand         541909 non-null  object \n",
      " 5   item_vendor        541909 non-null  object \n",
      " 6   order_qty          541909 non-null  int64  \n",
      " 7   invoice_date       541909 non-null  object \n",
      " 8   unit_price         541909 non-null  float64\n",
      " 9   customer_id        541909 non-null  int64  \n",
      " 10  country_name       541909 non-null  object \n",
      " 11  country_latitude   541909 non-null  float64\n",
      " 12  country_longitude  541909 non-null  float64\n",
      "dtypes: float64(3), int64(3), object(7)\n",
      "memory usage: 53.7+ MB\n"
     ]
    }
   ],
   "source": [
    "# Load the dataset from the local csv file of call logs\n",
    "pd_df = pd.read_csv(\"./invoices.csv\", sep=';', encoding = 'unicode_escape')\n",
    "pd_df.info()"
   ]
  },
  {
   "cell_type": "code",
   "execution_count": 4,
   "metadata": {},
   "outputs": [
    {
     "name": "stdout",
     "output_type": "stream",
     "text": [
      "<class 'pandas.core.frame.DataFrame'>\n",
      "RangeIndex: 541909 entries, 0 to 541908\n",
      "Data columns (total 12 columns):\n",
      " #   Column            Non-Null Count   Dtype         \n",
      "---  ------            --------------   -----         \n",
      " 0   invoice_id        541909 non-null  object        \n",
      " 1   item_id           541909 non-null  int64         \n",
      " 2   item_model        541909 non-null  object        \n",
      " 3   item_name         541909 non-null  object        \n",
      " 4   item_brand        541909 non-null  object        \n",
      " 5   item_vendor       541909 non-null  object        \n",
      " 6   order_qty         541909 non-null  int64         \n",
      " 7   invoice_date      541909 non-null  datetime64[ns]\n",
      " 8   unit_price        541909 non-null  float64       \n",
      " 9   customer_id       541909 non-null  int64         \n",
      " 10  country_name      541909 non-null  object        \n",
      " 11  country_location  541909 non-null  object        \n",
      "dtypes: datetime64[ns](1), float64(1), int64(3), object(7)\n",
      "memory usage: 49.6+ MB\n"
     ]
    }
   ],
   "source": [
    "#converting the type of Invoice Date Field from string to datetime.\n",
    "pd_df['invoice_date'] = pd.to_datetime(pd_df['invoice_date'])\n",
    "\n",
    "# Arrange prices for phones\n",
    "pd_df['unit_price'] = pd_df['unit_price'] * 10.00\n",
    "\n",
    "# Rename the columns to be snake_case\n",
    "pd_df.columns = [x.lower().replace(\" \", \"_\") for x in pd_df.columns]\n",
    "\n",
    "# Combine the 'latitude' and 'longitude' columns into one column 'location' for 'geo_point'\n",
    "pd_df[\"country_location\"] = pd_df[[\"country_latitude\", \"country_longitude\"]].apply(lambda x: \",\".join(str(item) for item in x), axis=1)\n",
    "\n",
    "# Drop the old columns in favor of 'location'\n",
    "pd_df.drop([\"country_latitude\", \"country_longitude\"], axis=1, inplace=True)\n",
    "\n",
    "pd_df.info()"
   ]
  },
  {
   "cell_type": "code",
   "execution_count": 5,
   "metadata": {},
   "outputs": [
    {
     "name": "stdout",
     "output_type": "stream",
     "text": [
      "<class 'eland.dataframe.DataFrame'>\n",
      "Index: 541909 entries, 2000 to 541908\n",
      "Data columns (total 12 columns):\n",
      " #   Column            Non-Null Count   Dtype         \n",
      "---  ------            --------------   -----         \n",
      " 0   country_location  541909 non-null  object        \n",
      " 1   country_name      541909 non-null  object        \n",
      " 2   customer_id       541909 non-null  object        \n",
      " 3   invoice_date      541909 non-null  datetime64[ns]\n",
      " 4   invoice_id        541909 non-null  object        \n",
      " 5   item_brand        541909 non-null  object        \n",
      " 6   item_id           541909 non-null  object        \n",
      " 7   item_model        541909 non-null  object        \n",
      " 8   item_name         541909 non-null  object        \n",
      " 9   item_vendor       541909 non-null  object        \n",
      " 10  order_qty         541909 non-null  int64         \n",
      " 11  unit_price        541909 non-null  float64       \n",
      "dtypes: datetime64[ns](1), float64(1), int64(1), object(9)\n",
      "memory usage: 64.0 bytes\n"
     ]
    }
   ],
   "source": [
    "# Load the data into elasticsearch\n",
    "ed_df = ed.pandas_to_eland(\n",
    "    pd_df=pd_df,\n",
    "    es_client=es,\n",
    "\n",
    "    # Where the data will live in Elasticsearch\n",
    "    es_dest_index=\"es-invoices\",\n",
    "\n",
    "    # Type overrides for certain columns, this can be used to customize index mapping before ingest\n",
    "    es_type_overrides={\n",
    "        \"invoice_id\": \"keyword\",\n",
    "        \"item_id\": \"keyword\",\n",
    "        \"item_model\": \"keyword\",\n",
    "        \"item_name\": \"keyword\",     \n",
    "        \"item_brand\": \"keyword\",\n",
    "        \"item_vendor\": \"keyword\",   \n",
    "        \"order_qty\": \"integer\",\n",
    "        \"invoice_date\": \"date\",\n",
    "        \"unit_price\": \"float\",  \n",
    "        \"customer_id\": \"keyword\",\n",
    "        \"country_name\": \"keyword\",\n",
    "        \"country_location\": \"geo_point\"  \n",
    "    },\n",
    "\n",
    "    # If the index already exists what should we do?\n",
    "    es_if_exists=\"replace\",\n",
    "\n",
    "    # Wait for data to be indexed before returning\n",
    "    es_refresh=True,\n",
    ")\n",
    "ed_df.info()"
   ]
  }
 ],
 "metadata": {
  "kernelspec": {
   "display_name": "Python 3",
   "language": "python",
   "name": "python3"
  },
  "language_info": {
   "codemirror_mode": {
    "name": "ipython",
    "version": 3
   },
   "file_extension": ".py",
   "mimetype": "text/x-python",
   "name": "python",
   "nbconvert_exporter": "python",
   "pygments_lexer": "ipython3",
   "version": "3.8.5"
  }
 },
 "nbformat": 4,
 "nbformat_minor": 4
}
